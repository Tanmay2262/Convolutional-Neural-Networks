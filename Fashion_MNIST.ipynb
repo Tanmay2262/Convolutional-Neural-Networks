{
  "nbformat": 4,
  "nbformat_minor": 0,
  "metadata": {
    "colab": {
      "name": "Fashion_MNIST.ipynb",
      "provenance": []
    },
    "kernelspec": {
      "name": "python3",
      "display_name": "Python 3"
    },
    "language_info": {
      "name": "python"
    }
  },
  "cells": [
    {
      "cell_type": "markdown",
      "metadata": {
        "id": "sgeUI0CeahM_"
      },
      "source": [
        "#Importing Libraries"
      ]
    },
    {
      "cell_type": "code",
      "metadata": {
        "id": "SSMYqtQ3Tw4l"
      },
      "source": [
        "import tensorflow\n",
        "from tensorflow import keras\n",
        "import pandas as pd\n",
        "import matplotlib.pyplot as plt\n",
        "import numpy as np\n"
      ],
      "execution_count": 102,
      "outputs": []
    },
    {
      "cell_type": "markdown",
      "metadata": {
        "id": "FTM6q_cRZ3L5"
      },
      "source": [
        "#Using Keras to load dataset"
      ]
    },
    {
      "cell_type": "code",
      "metadata": {
        "id": "Nnwyi3AgUSCO"
      },
      "source": [
        "fashion = keras.datasets.fashion_mnist\n",
        "(x_train_full,y_train_full),(x_test,y_test) = fashion.load_data()"
      ],
      "execution_count": 103,
      "outputs": []
    },
    {
      "cell_type": "code",
      "metadata": {
        "colab": {
          "base_uri": "https://localhost:8080/"
        },
        "id": "x3ZVeRbbQYXK",
        "outputId": "b68ef534-5019-44da-bed0-6c8cb0e98021"
      },
      "source": [
        "print(fashion)"
      ],
      "execution_count": 104,
      "outputs": [
        {
          "output_type": "stream",
          "name": "stdout",
          "text": [
            "<module 'keras.api._v2.keras.datasets.fashion_mnist' from '/usr/local/lib/python3.7/dist-packages/keras/api/_v2/keras/datasets/fashion_mnist/__init__.py'>\n"
          ]
        }
      ]
    },
    {
      "cell_type": "code",
      "metadata": {
        "colab": {
          "base_uri": "https://localhost:8080/"
        },
        "id": "7-iZ6xyKUYCX",
        "outputId": "e9531dfe-b045-4aaa-849c-7f35cc13e522"
      },
      "source": [
        "x_train_full.shape"
      ],
      "execution_count": 105,
      "outputs": [
        {
          "output_type": "execute_result",
          "data": {
            "text/plain": [
              "(60000, 28, 28)"
            ]
          },
          "metadata": {},
          "execution_count": 105
        }
      ]
    },
    {
      "cell_type": "code",
      "metadata": {
        "colab": {
          "base_uri": "https://localhost:8080/"
        },
        "id": "V_sZj7qqU-Qa",
        "outputId": "545536a6-be65-4eb1-ce18-1c8510f54463"
      },
      "source": [
        "x_train_full.dtype"
      ],
      "execution_count": 106,
      "outputs": [
        {
          "output_type": "execute_result",
          "data": {
            "text/plain": [
              "dtype('uint8')"
            ]
          },
          "metadata": {},
          "execution_count": 106
        }
      ]
    },
    {
      "cell_type": "code",
      "metadata": {
        "id": "m9y_9X-MVGvN"
      },
      "source": [
        "x_valid, x_train = x_train_full[:5000]/255.0, x_train_full[5000:]/255.0\n",
        "y_valid, y_train = y_train_full[:5000], y_train_full[5000:]"
      ],
      "execution_count": 107,
      "outputs": []
    },
    {
      "cell_type": "code",
      "metadata": {
        "id": "i89lGkFWVKhX"
      },
      "source": [
        "class_names = [\"T-shirt/top\", \"Trouser\", \"Pullover\", \"Dress\", \"Coat\", \"Sandal\", \"Shirt\", \"Sneakers\", \"Bag\", \"Ankle boot\"]"
      ],
      "execution_count": 108,
      "outputs": []
    },
    {
      "cell_type": "code",
      "metadata": {
        "colab": {
          "base_uri": "https://localhost:8080/",
          "height": 35
        },
        "id": "5PW6OtJlV-31",
        "outputId": "a5eb1e75-fb25-4236-e203-ba9c1f7cc15d"
      },
      "source": [
        "class_names[y_train[0]]"
      ],
      "execution_count": 109,
      "outputs": [
        {
          "output_type": "execute_result",
          "data": {
            "application/vnd.google.colaboratory.intrinsic+json": {
              "type": "string"
            },
            "text/plain": [
              "'Coat'"
            ]
          },
          "metadata": {},
          "execution_count": 109
        }
      ]
    },
    {
      "cell_type": "markdown",
      "metadata": {
        "id": "ZELiYtWBaDGx"
      },
      "source": [
        "#Creating the model using sequential API"
      ]
    },
    {
      "cell_type": "markdown",
      "metadata": {
        "id": "rHyiillNXm3C"
      },
      "source": [
        "##Method 1 to create a DNN"
      ]
    },
    {
      "cell_type": "code",
      "metadata": {
        "id": "O-mgHwccXemS"
      },
      "source": [
        "model = kerasdels.Sequential()\n",
        "model.add(keras.layers.Flatten(input_shape = [28,28]))\n",
        "model.add(keras.layers.Dense(300,activation='relu'))\n",
        "model.add(keras.layers.Dense(100,activation='relu'))\n",
        "model.add(keras.layers.Dense(10,activation='softmax')).mo"
      ],
      "execution_count": 110,
      "outputs": []
    },
    {
      "cell_type": "markdown",
      "metadata": {
        "id": "RayhUxwEXU7m"
      },
      "source": [
        "##Method 2 to create a DNN (Preferred)"
      ]
    },
    {
      "cell_type": "code",
      "metadata": {
        "id": "KV3TxkKKWD41"
      },
      "source": [
        "# 300,100 and 10 respectively refers to the number of neurons\n",
        "\n",
        "model = keras.models.Sequential([\n",
        "                                 keras.layers.Flatten(input_shape = [28,28]),\n",
        "                                 keras.layers.Dense(300,activation='relu'),\n",
        "                                 keras.layers.Dense(100,activation='relu'),\n",
        "                                 keras.layers.Dense(10, activation='softmax')\n",
        "])"
      ],
      "execution_count": 111,
      "outputs": []
    },
    {
      "cell_type": "code",
      "metadata": {
        "colab": {
          "base_uri": "https://localhost:8080/"
        },
        "id": "GyYnXceNXcR6",
        "outputId": "a5ffbd7f-8a14-4913-d459-a1af364d2bca"
      },
      "source": [
        "model.summary()"
      ],
      "execution_count": 112,
      "outputs": [
        {
          "output_type": "stream",
          "name": "stdout",
          "text": [
            "Model: \"sequential_8\"\n",
            "_________________________________________________________________\n",
            "Layer (type)                 Output Shape              Param #   \n",
            "=================================================================\n",
            "flatten_8 (Flatten)          (None, 784)               0         \n",
            "_________________________________________________________________\n",
            "dense_24 (Dense)             (None, 300)               235500    \n",
            "_________________________________________________________________\n",
            "dense_25 (Dense)             (None, 100)               30100     \n",
            "_________________________________________________________________\n",
            "dense_26 (Dense)             (None, 10)                1010      \n",
            "=================================================================\n",
            "Total params: 266,610\n",
            "Trainable params: 266,610\n",
            "Non-trainable params: 0\n",
            "_________________________________________________________________\n"
          ]
        }
      ]
    },
    {
      "cell_type": "code",
      "metadata": {
        "colab": {
          "base_uri": "https://localhost:8080/"
        },
        "id": "WPsqwat6dYW0",
        "outputId": "82a04b4a-a0d4-43c5-fbce-e163e078d674"
      },
      "source": [
        "model.layers"
      ],
      "execution_count": 113,
      "outputs": [
        {
          "output_type": "execute_result",
          "data": {
            "text/plain": [
              "[<keras.layers.core.Flatten at 0x7fdd9ef88050>,\n",
              " <keras.layers.core.Dense at 0x7fdd9f19e990>,\n",
              " <keras.layers.core.Dense at 0x7fdd9f19e710>,\n",
              " <keras.layers.core.Dense at 0x7fdd9f19ee90>]"
            ]
          },
          "metadata": {},
          "execution_count": 113
        }
      ]
    },
    {
      "cell_type": "code",
      "metadata": {
        "colab": {
          "base_uri": "https://localhost:8080/",
          "height": 35
        },
        "id": "4FNQkmh0dig-",
        "outputId": "36b423a7-0532-4347-d906-59ba93efd7de"
      },
      "source": [
        "hidden1 = model.layers[1]\n",
        "hidden1.name"
      ],
      "execution_count": 114,
      "outputs": [
        {
          "output_type": "execute_result",
          "data": {
            "application/vnd.google.colaboratory.intrinsic+json": {
              "type": "string"
            },
            "text/plain": [
              "'dense_24'"
            ]
          },
          "metadata": {},
          "execution_count": 114
        }
      ]
    },
    {
      "cell_type": "code",
      "metadata": {
        "colab": {
          "base_uri": "https://localhost:8080/"
        },
        "id": "XlTb7mk5dn16",
        "outputId": "66cb02da-0da4-4036-93e9-a082b9617af3"
      },
      "source": [
        "model.get_layer('dense_24') is hidden1"
      ],
      "execution_count": 116,
      "outputs": [
        {
          "output_type": "execute_result",
          "data": {
            "text/plain": [
              "True"
            ]
          },
          "metadata": {},
          "execution_count": 116
        }
      ]
    },
    {
      "cell_type": "code",
      "metadata": {
        "id": "PX9zSNUxd2BH"
      },
      "source": [
        "weight,biases = hidden1.get_weights()"
      ],
      "execution_count": 117,
      "outputs": []
    },
    {
      "cell_type": "code",
      "metadata": {
        "colab": {
          "base_uri": "https://localhost:8080/"
        },
        "id": "8vUSxGMieAIP",
        "outputId": "d350f4e4-cb83-4228-b0e8-35da325ba89d"
      },
      "source": [
        "weight"
      ],
      "execution_count": 118,
      "outputs": [
        {
          "output_type": "execute_result",
          "data": {
            "text/plain": [
              "array([[ 0.04183425, -0.05762828,  0.06243998, ..., -0.0436357 ,\n",
              "        -0.03466757, -0.07367244],\n",
              "       [-0.04704772,  0.02195872,  0.03677487, ...,  0.02659374,\n",
              "         0.03930063, -0.03461835],\n",
              "       [-0.00378959, -0.04905412, -0.02612587, ..., -0.00920852,\n",
              "         0.0618716 , -0.0112077 ],\n",
              "       ...,\n",
              "       [-0.04877603,  0.00231993,  0.01307829, ..., -0.06720316,\n",
              "        -0.06091951, -0.00568943],\n",
              "       [ 0.03398062, -0.02623595, -0.04888049, ...,  0.06962925,\n",
              "         0.04871593, -0.02744608],\n",
              "       [ 0.02291713, -0.05133627,  0.04568712, ...,  0.00516842,\n",
              "         0.05695343, -0.04941227]], dtype=float32)"
            ]
          },
          "metadata": {},
          "execution_count": 118
        }
      ]
    },
    {
      "cell_type": "code",
      "metadata": {
        "colab": {
          "base_uri": "https://localhost:8080/"
        },
        "id": "kMHYERYReB2B",
        "outputId": "2f899411-c1c5-4f38-dd6c-c9d7d0170ee9"
      },
      "source": [
        "weight.shape"
      ],
      "execution_count": 119,
      "outputs": [
        {
          "output_type": "execute_result",
          "data": {
            "text/plain": [
              "(784, 300)"
            ]
          },
          "metadata": {},
          "execution_count": 119
        }
      ]
    },
    {
      "cell_type": "code",
      "metadata": {
        "colab": {
          "base_uri": "https://localhost:8080/"
        },
        "id": "-yR8AAiweF3Z",
        "outputId": "8e9cd8ca-7d7e-4463-f199-2fab7f05cc2e"
      },
      "source": [
        "biases"
      ],
      "execution_count": 120,
      "outputs": [
        {
          "output_type": "execute_result",
          "data": {
            "text/plain": [
              "array([0., 0., 0., 0., 0., 0., 0., 0., 0., 0., 0., 0., 0., 0., 0., 0., 0.,\n",
              "       0., 0., 0., 0., 0., 0., 0., 0., 0., 0., 0., 0., 0., 0., 0., 0., 0.,\n",
              "       0., 0., 0., 0., 0., 0., 0., 0., 0., 0., 0., 0., 0., 0., 0., 0., 0.,\n",
              "       0., 0., 0., 0., 0., 0., 0., 0., 0., 0., 0., 0., 0., 0., 0., 0., 0.,\n",
              "       0., 0., 0., 0., 0., 0., 0., 0., 0., 0., 0., 0., 0., 0., 0., 0., 0.,\n",
              "       0., 0., 0., 0., 0., 0., 0., 0., 0., 0., 0., 0., 0., 0., 0., 0., 0.,\n",
              "       0., 0., 0., 0., 0., 0., 0., 0., 0., 0., 0., 0., 0., 0., 0., 0., 0.,\n",
              "       0., 0., 0., 0., 0., 0., 0., 0., 0., 0., 0., 0., 0., 0., 0., 0., 0.,\n",
              "       0., 0., 0., 0., 0., 0., 0., 0., 0., 0., 0., 0., 0., 0., 0., 0., 0.,\n",
              "       0., 0., 0., 0., 0., 0., 0., 0., 0., 0., 0., 0., 0., 0., 0., 0., 0.,\n",
              "       0., 0., 0., 0., 0., 0., 0., 0., 0., 0., 0., 0., 0., 0., 0., 0., 0.,\n",
              "       0., 0., 0., 0., 0., 0., 0., 0., 0., 0., 0., 0., 0., 0., 0., 0., 0.,\n",
              "       0., 0., 0., 0., 0., 0., 0., 0., 0., 0., 0., 0., 0., 0., 0., 0., 0.,\n",
              "       0., 0., 0., 0., 0., 0., 0., 0., 0., 0., 0., 0., 0., 0., 0., 0., 0.,\n",
              "       0., 0., 0., 0., 0., 0., 0., 0., 0., 0., 0., 0., 0., 0., 0., 0., 0.,\n",
              "       0., 0., 0., 0., 0., 0., 0., 0., 0., 0., 0., 0., 0., 0., 0., 0., 0.,\n",
              "       0., 0., 0., 0., 0., 0., 0., 0., 0., 0., 0., 0., 0., 0., 0., 0., 0.,\n",
              "       0., 0., 0., 0., 0., 0., 0., 0., 0., 0., 0.], dtype=float32)"
            ]
          },
          "metadata": {},
          "execution_count": 120
        }
      ]
    },
    {
      "cell_type": "code",
      "metadata": {
        "colab": {
          "base_uri": "https://localhost:8080/"
        },
        "id": "UthrZyh4eHaG",
        "outputId": "e3382307-554e-42b9-e06d-4e97c3345e53"
      },
      "source": [
        "biases.shape"
      ],
      "execution_count": 121,
      "outputs": [
        {
          "output_type": "execute_result",
          "data": {
            "text/plain": [
              "(300,)"
            ]
          },
          "metadata": {},
          "execution_count": 121
        }
      ]
    },
    {
      "cell_type": "markdown",
      "metadata": {
        "id": "uEWyLCMHaOX2"
      },
      "source": [
        "#Compiling thee model"
      ]
    },
    {
      "cell_type": "code",
      "metadata": {
        "id": "fO6nBZiKeJqI"
      },
      "source": [
        "model.compile(loss = \"sparse_categorical_crossentropy\",\n",
        "              optimizer = \"sgd\",\n",
        "              metrics=[\"accuracy\"]\n",
        ")"
      ],
      "execution_count": 122,
      "outputs": []
    },
    {
      "cell_type": "markdown",
      "metadata": {
        "id": "kZG2GI3QaU6t"
      },
      "source": [
        "#Training and Evaluating the model"
      ]
    },
    {
      "cell_type": "code",
      "metadata": {
        "colab": {
          "base_uri": "https://localhost:8080/"
        },
        "id": "WNLMDeZJeiz2",
        "outputId": "4c02c708-fce2-4655-f899-c0441ece658f"
      },
      "source": [
        "history = model.fit(x_train,y_train,epochs=30,validation_data=(x_valid,y_valid))"
      ],
      "execution_count": 123,
      "outputs": [
        {
          "output_type": "stream",
          "name": "stdout",
          "text": [
            "Epoch 1/30\n",
            "1719/1719 [==============================] - 6s 4ms/step - loss: 0.7189 - accuracy: 0.7675 - val_loss: 0.5007 - val_accuracy: 0.8324\n",
            "Epoch 2/30\n",
            "1719/1719 [==============================] - 6s 3ms/step - loss: 0.4869 - accuracy: 0.8301 - val_loss: 0.4583 - val_accuracy: 0.8428\n",
            "Epoch 3/30\n",
            "1719/1719 [==============================] - 6s 3ms/step - loss: 0.4423 - accuracy: 0.8440 - val_loss: 0.4265 - val_accuracy: 0.8492\n",
            "Epoch 4/30\n",
            "1719/1719 [==============================] - 6s 4ms/step - loss: 0.4153 - accuracy: 0.8530 - val_loss: 0.3962 - val_accuracy: 0.8622\n",
            "Epoch 5/30\n",
            "1719/1719 [==============================] - 6s 4ms/step - loss: 0.3944 - accuracy: 0.8611 - val_loss: 0.3770 - val_accuracy: 0.8658\n",
            "Epoch 6/30\n",
            "1719/1719 [==============================] - 7s 4ms/step - loss: 0.3785 - accuracy: 0.8660 - val_loss: 0.3843 - val_accuracy: 0.8614\n",
            "Epoch 7/30\n",
            "1719/1719 [==============================] - 6s 3ms/step - loss: 0.3659 - accuracy: 0.8708 - val_loss: 0.3794 - val_accuracy: 0.8690\n",
            "Epoch 8/30\n",
            "1719/1719 [==============================] - 6s 4ms/step - loss: 0.3530 - accuracy: 0.8741 - val_loss: 0.3435 - val_accuracy: 0.8780\n",
            "Epoch 9/30\n",
            "1719/1719 [==============================] - 6s 3ms/step - loss: 0.3438 - accuracy: 0.8763 - val_loss: 0.3558 - val_accuracy: 0.8750\n",
            "Epoch 10/30\n",
            "1719/1719 [==============================] - 6s 4ms/step - loss: 0.3347 - accuracy: 0.8796 - val_loss: 0.3426 - val_accuracy: 0.8776\n",
            "Epoch 11/30\n",
            "1719/1719 [==============================] - 6s 3ms/step - loss: 0.3249 - accuracy: 0.8832 - val_loss: 0.3357 - val_accuracy: 0.8796\n",
            "Epoch 12/30\n",
            "1719/1719 [==============================] - 6s 4ms/step - loss: 0.3177 - accuracy: 0.8867 - val_loss: 0.3212 - val_accuracy: 0.8860\n",
            "Epoch 13/30\n",
            "1719/1719 [==============================] - 6s 3ms/step - loss: 0.3107 - accuracy: 0.8891 - val_loss: 0.3210 - val_accuracy: 0.8880\n",
            "Epoch 14/30\n",
            "1719/1719 [==============================] - 6s 3ms/step - loss: 0.3032 - accuracy: 0.8910 - val_loss: 0.3203 - val_accuracy: 0.8844\n",
            "Epoch 15/30\n",
            "1719/1719 [==============================] - 6s 3ms/step - loss: 0.2966 - accuracy: 0.8932 - val_loss: 0.3263 - val_accuracy: 0.8832\n",
            "Epoch 16/30\n",
            "1719/1719 [==============================] - 6s 4ms/step - loss: 0.2915 - accuracy: 0.8951 - val_loss: 0.3179 - val_accuracy: 0.8880\n",
            "Epoch 17/30\n",
            "1719/1719 [==============================] - 6s 4ms/step - loss: 0.2857 - accuracy: 0.8965 - val_loss: 0.3106 - val_accuracy: 0.8894\n",
            "Epoch 18/30\n",
            "1719/1719 [==============================] - 6s 4ms/step - loss: 0.2810 - accuracy: 0.8976 - val_loss: 0.3164 - val_accuracy: 0.8910\n",
            "Epoch 19/30\n",
            "1719/1719 [==============================] - 6s 4ms/step - loss: 0.2748 - accuracy: 0.9012 - val_loss: 0.3117 - val_accuracy: 0.8868\n",
            "Epoch 20/30\n",
            "1719/1719 [==============================] - 6s 4ms/step - loss: 0.2703 - accuracy: 0.9027 - val_loss: 0.3155 - val_accuracy: 0.8886\n",
            "Epoch 21/30\n",
            "1719/1719 [==============================] - 6s 3ms/step - loss: 0.2646 - accuracy: 0.9045 - val_loss: 0.3222 - val_accuracy: 0.8812\n",
            "Epoch 22/30\n",
            "1719/1719 [==============================] - 6s 4ms/step - loss: 0.2609 - accuracy: 0.9059 - val_loss: 0.3371 - val_accuracy: 0.8766\n",
            "Epoch 23/30\n",
            "1719/1719 [==============================] - 6s 4ms/step - loss: 0.2554 - accuracy: 0.9078 - val_loss: 0.3180 - val_accuracy: 0.8846\n",
            "Epoch 24/30\n",
            "1719/1719 [==============================] - 6s 4ms/step - loss: 0.2525 - accuracy: 0.9088 - val_loss: 0.3341 - val_accuracy: 0.8736\n",
            "Epoch 25/30\n",
            "1719/1719 [==============================] - 6s 3ms/step - loss: 0.2474 - accuracy: 0.9109 - val_loss: 0.3040 - val_accuracy: 0.8884\n",
            "Epoch 26/30\n",
            "1719/1719 [==============================] - 6s 3ms/step - loss: 0.2431 - accuracy: 0.9122 - val_loss: 0.2900 - val_accuracy: 0.8972\n",
            "Epoch 27/30\n",
            "1719/1719 [==============================] - 6s 3ms/step - loss: 0.2390 - accuracy: 0.9146 - val_loss: 0.2901 - val_accuracy: 0.8970\n",
            "Epoch 28/30\n",
            "1719/1719 [==============================] - 6s 3ms/step - loss: 0.2351 - accuracy: 0.9154 - val_loss: 0.2922 - val_accuracy: 0.8954\n",
            "Epoch 29/30\n",
            "1719/1719 [==============================] - 6s 3ms/step - loss: 0.2316 - accuracy: 0.9170 - val_loss: 0.2899 - val_accuracy: 0.8952\n",
            "Epoch 30/30\n",
            "1719/1719 [==============================] - 6s 4ms/step - loss: 0.2288 - accuracy: 0.9178 - val_loss: 0.2910 - val_accuracy: 0.8982\n"
          ]
        }
      ]
    },
    {
      "cell_type": "code",
      "metadata": {
        "colab": {
          "base_uri": "https://localhost:8080/",
          "height": 341
        },
        "id": "xWPLUTV5fnd7",
        "outputId": "d85572e2-0f82-4fda-e800-c1dd7227928b"
      },
      "source": [
        "pd.DataFrame(history.history).plot(figsize=(8,5))\n",
        "plt.grid(True)\n",
        "plt.gca().set_ylim(0,1)\n",
        "plt.show"
      ],
      "execution_count": 124,
      "outputs": [
        {
          "output_type": "execute_result",
          "data": {
            "text/plain": [
              "<function matplotlib.pyplot.show>"
            ]
          },
          "metadata": {},
          "execution_count": 124
        },
        {
          "output_type": "display_data",
          "data": {
            "image/png": "[encoded data removed]",
            "text/plain": [
              "<Figure size 576x360 with 1 Axes>"
            ]
          },
          "metadata": {
            "needs_background": "light"
          }
        }
      ]
    },
    {
      "cell_type": "code",
      "metadata": {
        "colab": {
          "base_uri": "https://localhost:8080/"
        },
        "id": "C6ZCrzjfi4Tb",
        "outputId": "4b8b3c18-8f9c-4262-9ccb-3670a4f352b4"
      },
      "source": [
        "model.evaluate(x_test,y_test)"
      ],
      "execution_count": 125,
      "outputs": [
        {
          "output_type": "stream",
          "name": "stdout",
          "text": [
            "313/313 [==============================] - 1s 3ms/step - loss: 65.0001 - accuracy: 0.8443\n"
          ]
        },
        {
          "output_type": "execute_result",
          "data": {
            "text/plain": [
              "[65.0000991821289, 0.8442999720573425]"
            ]
          },
          "metadata": {},
          "execution_count": 125
        }
      ]
    },
    {
      "cell_type": "markdown",
      "metadata": {
        "id": "MHWeEQJcabof"
      },
      "source": [
        "#Using the model to make predictions"
      ]
    },
    {
      "cell_type": "code",
      "metadata": {
        "colab": {
          "base_uri": "https://localhost:8080/"
        },
        "id": "DjMt4O-qN_nv",
        "outputId": "8ed295df-b885-4899-edaa-a008f8f82d46"
      },
      "source": [
        "x_new = x_test[:3]\n",
        "y_prob = model.predict(x_new)\n",
        "y_prob.round(2)"
      ],
      "execution_count": 137,
      "outputs": [
        {
          "output_type": "execute_result",
          "data": {
            "text/plain": [
              "array([[0., 0., 0., 0., 0., 0., 0., 0., 0., 1.],\n",
              "       [0., 0., 1., 0., 0., 0., 0., 0., 0., 0.],\n",
              "       [0., 1., 0., 0., 0., 0., 0., 0., 0., 0.]], dtype=float32)"
            ]
          },
          "metadata": {},
          "execution_count": 137
        }
      ]
    },
    {
      "cell_type": "code",
      "metadata": {
        "colab": {
          "base_uri": "https://localhost:8080/"
        },
        "id": "ut0hjdcvQS_y",
        "outputId": "ed636dd4-598b-49fc-8c76-f1e369b74e78"
      },
      "source": [
        "x_new"
      ],
      "execution_count": 146,
      "outputs": [
        {
          "output_type": "execute_result",
          "data": {
            "text/plain": [
              "array([[[0, 0, 0, ..., 0, 0, 0],\n",
              "        [0, 0, 0, ..., 0, 0, 0],\n",
              "        [0, 0, 0, ..., 0, 0, 0],\n",
              "        ...,\n",
              "        [0, 0, 0, ..., 0, 0, 0],\n",
              "        [0, 0, 0, ..., 0, 0, 0],\n",
              "        [0, 0, 0, ..., 0, 0, 0]],\n",
              "\n",
              "       [[0, 0, 0, ..., 0, 0, 0],\n",
              "        [0, 0, 0, ..., 0, 0, 0],\n",
              "        [0, 0, 0, ..., 0, 0, 0],\n",
              "        ...,\n",
              "        [0, 0, 0, ..., 0, 0, 0],\n",
              "        [0, 0, 0, ..., 0, 0, 0],\n",
              "        [0, 0, 0, ..., 0, 0, 0]],\n",
              "\n",
              "       [[0, 0, 0, ..., 0, 0, 0],\n",
              "        [0, 0, 0, ..., 0, 0, 0],\n",
              "        [0, 0, 0, ..., 0, 0, 0],\n",
              "        ...,\n",
              "        [0, 0, 0, ..., 0, 0, 0],\n",
              "        [0, 0, 0, ..., 0, 0, 0],\n",
              "        [0, 0, 0, ..., 0, 0, 0]]], dtype=uint8)"
            ]
          },
          "metadata": {},
          "execution_count": 146
        }
      ]
    },
    {
      "cell_type": "code",
      "metadata": {
        "colab": {
          "base_uri": "https://localhost:8080/"
        },
        "id": "C-CNs6aJOSsI",
        "outputId": "ecd5b9c5-a829-43a2-f0f1-94528230f05d"
      },
      "source": [
        "# y_pred = (model.predict(x_new) > 0.5).astype(\"int32\")\n",
        "y_pred=model.predict(x_new)\n",
        "y_pred=np.argmax(y_pred,axis=1)\n",
        "y_pred"
      ],
      "execution_count": 156,
      "outputs": [
        {
          "output_type": "execute_result",
          "data": {
            "text/plain": [
              "array([9, 2, 1])"
            ]
          },
          "metadata": {},
          "execution_count": 156
        }
      ]
    },
    {
      "cell_type": "code",
      "metadata": {
        "colab": {
          "base_uri": "https://localhost:8080/"
        },
        "id": "IJ0qsm6-Oj1z",
        "outputId": "970be3ce-47ae-4b46-cfc9-b5f4e2f8791a"
      },
      "source": [
        "np.array(class_names)[y_pred]"
      ],
      "execution_count": 157,
      "outputs": [
        {
          "output_type": "execute_result",
          "data": {
            "text/plain": [
              "array(['Ankle boot', 'Pullover', 'Trouser'], dtype='<U11')"
            ]
          },
          "metadata": {},
          "execution_count": 157
        }
      ]
    },
    {
      "cell_type": "code",
      "metadata": {
        "colab": {
          "base_uri": "https://localhost:8080/"
        },
        "id": "CqsExRtdWWwG",
        "outputId": "c2d21250-b69a-47c0-f45f-41855d580b84"
      },
      "source": [
        "y_test[:3]"
      ],
      "execution_count": 158,
      "outputs": [
        {
          "output_type": "execute_result",
          "data": {
            "text/plain": [
              "array([9, 2, 1], dtype=uint8)"
            ]
          },
          "metadata": {},
          "execution_count": 158
        }
      ]
    },
    {
      "cell_type": "code",
      "metadata": {
        "colab": {
          "base_uri": "https://localhost:8080/"
        },
        "id": "fFpm8TzYPdHj",
        "outputId": "dc324b81-0db8-42ec-b231-e89f9bd8f4ef"
      },
      "source": [
        "y_new = y_test[:3]\n",
        "y_new"
      ],
      "execution_count": 159,
      "outputs": [
        {
          "output_type": "execute_result",
          "data": {
            "text/plain": [
              "array([9, 2, 1], dtype=uint8)"
            ]
          },
          "metadata": {},
          "execution_count": 159
        }
      ]
    },
    {
      "cell_type": "code",
      "metadata": {
        "colab": {
          "base_uri": "https://localhost:8080/"
        },
        "id": "g-vRWkdqPnzZ",
        "outputId": "cbba211a-a4e0-43fe-cc83-18158b4d6d54"
      },
      "source": [
        "np.array(class_names)[y_new]"
      ],
      "execution_count": 160,
      "outputs": [
        {
          "output_type": "execute_result",
          "data": {
            "text/plain": [
              "array(['Ankle boot', 'Pullover', 'Trouser'], dtype='<U11')"
            ]
          },
          "metadata": {},
          "execution_count": 160
        }
      ]
    }
  ]
}